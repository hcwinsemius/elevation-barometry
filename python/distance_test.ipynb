{
 "cells": [
  {
   "cell_type": "code",
   "execution_count": null,
   "metadata": {},
   "outputs": [],
   "source": [
    "%matplotlib inline\n",
    "import pandas as pd\n",
    "import matplotlib.pyplot as plt\n",
    "import glob, os"
   ]
  },
  {
   "cell_type": "code",
   "execution_count": null,
   "metadata": {},
   "outputs": [],
   "source": []
  },
  {
   "cell_type": "code",
   "execution_count": null,
   "metadata": {},
   "outputs": [],
   "source": [
    "def read_data_android(fn, reindex=False):\n",
    "    import datetime\n",
    "    def dateparse (time_in_secs):    \n",
    "        return datetime.datetime.fromtimestamp(float(time_in_secs)/1e3)\n",
    "    data = pd.read_csv(fn, index_col=13, parse_dates=True, date_parser=dateparse)\n",
    "    if reindex:\n",
    "        data.index = pd.DatetimeIndex(start=data.index[0],\n",
    "                                      end=data.index[-1],\n",
    "                                      periods=len(data)\n",
    "                                     )\n",
    "    return data\n",
    "\n",
    "fn = r'd:\\git\\elevation-barometry\\data\\field_distance_test\\Location_250_1_D2.csv'\n",
    "data = read_data_android(fn)\n",
    "data.head()"
   ]
  }
 ],
 "metadata": {
  "kernelspec": {
   "display_name": "Python 3",
   "language": "python",
   "name": "python3"
  },
  "language_info": {
   "codemirror_mode": {
    "name": "ipython",
    "version": 3
   },
   "file_extension": ".py",
   "mimetype": "text/x-python",
   "name": "python",
   "nbconvert_exporter": "python",
   "pygments_lexer": "ipython3",
   "version": "3.6.5"
  }
 },
 "nbformat": 4,
 "nbformat_minor": 2
}
