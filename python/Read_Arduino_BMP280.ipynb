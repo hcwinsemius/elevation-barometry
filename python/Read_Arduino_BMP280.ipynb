{
 "cells": [
  {
   "cell_type": "code",
   "execution_count": null,
   "metadata": {
    "collapsed": true
   },
   "outputs": [],
   "source": [
    "%matplotlib inline\n",
    "import os\n",
    "import bmp280_log as log"
   ]
  },
  {
   "cell_type": "code",
   "execution_count": null,
   "metadata": {},
   "outputs": [],
   "source": [
    "# this logger will work when using the sketch from ../sketch/BMP280I2C_Adafruit_modes/BMP280I2C_Adafruit_modes.ino\n",
    "# and the libraries from https://github.com/finitespace/BME280\n",
    "# Just connect your Arduino and run this cell of code. \n",
    "# To analyze it, please use the notebook data_analysis_example.ipynb as a working example and modify it.\n",
    "\n",
    "timeout = 5\n",
    "path = os.path.join('..', 'data')\n",
    "prefix = 'bmp280_obs'\n",
    "\n",
    "# run the logger, it will listen as long as the Arduino provides correctly-formatted data, \n",
    "# is connected and duration [sec] is not reached yet\n",
    "df = log.log_bmp280(path, prefix, duration=1000, baud_rate=115200, skiplines=1)\n",
    "# show the table in a well-formatted look\n",
    "df"
   ]
  },
  {
   "cell_type": "code",
   "execution_count": null,
   "metadata": {},
   "outputs": [],
   "source": [
    "# show some statistics\n",
    "df.describe()"
   ]
  },
  {
   "cell_type": "code",
   "execution_count": null,
   "metadata": {},
   "outputs": [],
   "source": [
    "# plot autocorrelation (to make Nick happy)\n",
    "import pandas as pd\n",
    "pd.plotting.autocorrelation_plot(df['Pressure (Pa)'])"
   ]
  }
 ],
 "metadata": {
  "kernelspec": {
   "display_name": "Python 2",
   "language": "python",
   "name": "python2"
  },
  "language_info": {
   "codemirror_mode": {
    "name": "ipython",
    "version": 2
   },
   "file_extension": ".py",
   "mimetype": "text/x-python",
   "name": "python",
   "nbconvert_exporter": "python",
   "pygments_lexer": "ipython2",
   "version": "2.7.13"
  }
 },
 "nbformat": 4,
 "nbformat_minor": 2
}
